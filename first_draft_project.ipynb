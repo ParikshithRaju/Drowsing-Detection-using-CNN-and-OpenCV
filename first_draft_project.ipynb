{
 "cells": [
  {
   "cell_type": "markdown",
   "metadata": {},
   "source": [
    "# Importing modules"
   ]
  },
  {
   "cell_type": "code",
   "execution_count": 1,
   "metadata": {},
   "outputs": [
    {
     "name": "stderr",
     "output_type": "stream",
     "text": [
      "Using TensorFlow backend.\n",
      "/home/parikshith/.local/lib/python3.7/site-packages/tensorflow/python/framework/dtypes.py:516: FutureWarning: Passing (type, 1) or '1type' as a synonym of type is deprecated; in a future version of numpy, it will be understood as (type, (1,)) / '(1,)type'.\n",
      "  _np_qint8 = np.dtype([(\"qint8\", np.int8, 1)])\n",
      "/home/parikshith/.local/lib/python3.7/site-packages/tensorflow/python/framework/dtypes.py:517: FutureWarning: Passing (type, 1) or '1type' as a synonym of type is deprecated; in a future version of numpy, it will be understood as (type, (1,)) / '(1,)type'.\n",
      "  _np_quint8 = np.dtype([(\"quint8\", np.uint8, 1)])\n",
      "/home/parikshith/.local/lib/python3.7/site-packages/tensorflow/python/framework/dtypes.py:518: FutureWarning: Passing (type, 1) or '1type' as a synonym of type is deprecated; in a future version of numpy, it will be understood as (type, (1,)) / '(1,)type'.\n",
      "  _np_qint16 = np.dtype([(\"qint16\", np.int16, 1)])\n",
      "/home/parikshith/.local/lib/python3.7/site-packages/tensorflow/python/framework/dtypes.py:519: FutureWarning: Passing (type, 1) or '1type' as a synonym of type is deprecated; in a future version of numpy, it will be understood as (type, (1,)) / '(1,)type'.\n",
      "  _np_quint16 = np.dtype([(\"quint16\", np.uint16, 1)])\n",
      "/home/parikshith/.local/lib/python3.7/site-packages/tensorflow/python/framework/dtypes.py:520: FutureWarning: Passing (type, 1) or '1type' as a synonym of type is deprecated; in a future version of numpy, it will be understood as (type, (1,)) / '(1,)type'.\n",
      "  _np_qint32 = np.dtype([(\"qint32\", np.int32, 1)])\n",
      "/home/parikshith/.local/lib/python3.7/site-packages/tensorflow/python/framework/dtypes.py:525: FutureWarning: Passing (type, 1) or '1type' as a synonym of type is deprecated; in a future version of numpy, it will be understood as (type, (1,)) / '(1,)type'.\n",
      "  np_resource = np.dtype([(\"resource\", np.ubyte, 1)])\n",
      "/home/parikshith/.local/lib/python3.7/site-packages/tensorboard/compat/tensorflow_stub/dtypes.py:541: FutureWarning: Passing (type, 1) or '1type' as a synonym of type is deprecated; in a future version of numpy, it will be understood as (type, (1,)) / '(1,)type'.\n",
      "  _np_qint8 = np.dtype([(\"qint8\", np.int8, 1)])\n",
      "/home/parikshith/.local/lib/python3.7/site-packages/tensorboard/compat/tensorflow_stub/dtypes.py:542: FutureWarning: Passing (type, 1) or '1type' as a synonym of type is deprecated; in a future version of numpy, it will be understood as (type, (1,)) / '(1,)type'.\n",
      "  _np_quint8 = np.dtype([(\"quint8\", np.uint8, 1)])\n",
      "/home/parikshith/.local/lib/python3.7/site-packages/tensorboard/compat/tensorflow_stub/dtypes.py:543: FutureWarning: Passing (type, 1) or '1type' as a synonym of type is deprecated; in a future version of numpy, it will be understood as (type, (1,)) / '(1,)type'.\n",
      "  _np_qint16 = np.dtype([(\"qint16\", np.int16, 1)])\n",
      "/home/parikshith/.local/lib/python3.7/site-packages/tensorboard/compat/tensorflow_stub/dtypes.py:544: FutureWarning: Passing (type, 1) or '1type' as a synonym of type is deprecated; in a future version of numpy, it will be understood as (type, (1,)) / '(1,)type'.\n",
      "  _np_quint16 = np.dtype([(\"quint16\", np.uint16, 1)])\n",
      "/home/parikshith/.local/lib/python3.7/site-packages/tensorboard/compat/tensorflow_stub/dtypes.py:545: FutureWarning: Passing (type, 1) or '1type' as a synonym of type is deprecated; in a future version of numpy, it will be understood as (type, (1,)) / '(1,)type'.\n",
      "  _np_qint32 = np.dtype([(\"qint32\", np.int32, 1)])\n",
      "/home/parikshith/.local/lib/python3.7/site-packages/tensorboard/compat/tensorflow_stub/dtypes.py:550: FutureWarning: Passing (type, 1) or '1type' as a synonym of type is deprecated; in a future version of numpy, it will be understood as (type, (1,)) / '(1,)type'.\n",
      "  np_resource = np.dtype([(\"resource\", np.ubyte, 1)])\n"
     ]
    }
   ],
   "source": [
    "import numpy as np\n",
    "import matplotlib.pyplot as plt\n",
    "from sklearn.model_selection import train_test_split\n",
    "from keras.utils import to_categorical\n",
    "from tqdm import tqdm\n",
    "import os\n",
    "from keras.preprocessing.image import ImageDataGenerator\n",
    "import cv2\n",
    "from keras.preprocessing import image\n",
    "from keras.models import load_model,model_from_json\n",
    "import pyttsx3 "
   ]
  },
  {
   "cell_type": "markdown",
   "metadata": {},
   "source": [
    "## Loading The saved model"
   ]
  },
  {
   "cell_type": "code",
   "execution_count": 2,
   "metadata": {},
   "outputs": [],
   "source": [
    "json_file=open('awesome_trained.json','r')\n",
    "json_model=json_file.read()\n",
    "json_file.close()\n",
    "model=model_from_json(json_model)\n",
    "model.load_weights('awesome_trained_model_weights.h5')"
   ]
  },
  {
   "cell_type": "code",
   "execution_count": 3,
   "metadata": {},
   "outputs": [],
   "source": [
    "model.compile(loss='binary_crossentropy',optimizer='Adam',metrics=['accuracy'])"
   ]
  },
  {
   "cell_type": "markdown",
   "metadata": {},
   "source": [
    "# Defnition of needed variables and functions"
   ]
  },
  {
   "cell_type": "code",
   "execution_count": 4,
   "metadata": {},
   "outputs": [],
   "source": [
    "prediction_classes=['closed','open']"
   ]
  },
  {
   "cell_type": "code",
   "execution_count": 5,
   "metadata": {},
   "outputs": [],
   "source": [
    "def make_prediction(img):\n",
    "    pred=[]\n",
    "    pred.append(img)\n",
    "    pred=np.array(pred)\n",
    "    pred=list(model.predict(pred)[0])\n",
    "    return(pred,prediction_classes[pred.index(max(pred))])\n",
    "engine = pyttsx3.init() "
   ]
  },
  {
   "cell_type": "markdown",
   "metadata": {},
   "source": [
    "## An example of the model demonstration"
   ]
  },
  {
   "cell_type": "code",
   "execution_count": 6,
   "metadata": {},
   "outputs": [],
   "source": [
    "# face_cascade=cv2.CascadeClassifier('/home/parikshith/Documents/opencv/haar_cascades_folder/haarcascade_frontalface_default.xml')\n",
    "# eye_cascade=cv2.CascadeClassifier('/home/parikshith/Documents/opencv/haar_cascades_folder/haarcascade_eye.xml')\n",
    "\n",
    "# cap=cv2.VideoCapture(0)\n",
    "# eye_counter=0\n",
    "# ret,img=cap.read()\n",
    "# gray=cv2.cvtColor(img,cv2.COLOR_BGR2GRAY)\n",
    "# faces=face_cascade.detectMultiScale(gray,1.3,5)\n",
    "# for (x,y,w,h) in faces:\n",
    "#     roi_gray=gray[y:y+h,x:x+w]\n",
    "#     roi_img=img[y:y+h,x:x+h]\n",
    "#     eyes=eye_cascade.detectMultiScale(roi_gray,1.3,5)\n",
    "#     for (ex,ey,ew,eh) in eyes:\n",
    "#         want_img=roi_gray[ey:ey+eh,ex:ex+ew]\n",
    "#         cv2.imwrite('predict_new.png',want_img)\n",
    "# cap.release()\n",
    "# img=image.load_img('predict_new.png',target_size=(24,24,3))\n",
    "# img=image.img_to_array(img)\n",
    "# img/=255\n",
    "# plt.imshow(img)\n",
    "# make_prediction(img)"
   ]
  },
  {
   "cell_type": "markdown",
   "metadata": {},
   "source": [
    "# Making The real project"
   ]
  },
  {
   "cell_type": "code",
   "execution_count": 7,
   "metadata": {
    "scrolled": false
   },
   "outputs": [
    {
     "name": "stdout",
     "output_type": "stream",
     "text": [
      "0\n",
      "2\n",
      "0\n",
      "24\n",
      "26\n",
      "24\n",
      "11\n",
      "3\n",
      "1\n",
      "0\n",
      "0\n",
      "0\n",
      "21\n",
      "26\n",
      "22\n",
      "2\n",
      "1\n",
      "6\n",
      "12\n",
      "11\n",
      "2\n"
     ]
    }
   ],
   "source": [
    "face_cascade=cv2.CascadeClassifier('haarcascade_frontalface_default.xml')\n",
    "eye_cascade=cv2.CascadeClassifier('haarcascade_eye.xml')\n",
    "\n",
    "\n",
    "cap=cv2.VideoCapture(0)\n",
    "try:\n",
    "    while True:\n",
    "        no_of_eyes=0\n",
    "        closed_no=0\n",
    "        done=False\n",
    "        while no_of_eyes<25:\n",
    "            ret,img=cap.read()\n",
    "            gray=cv2.cvtColor(img,cv2.COLOR_BGR2GRAY)\n",
    "            faces=face_cascade.detectMultiScale(gray,1.3,5)\n",
    "            for (x,y,w,h) in faces:\n",
    "                cv2.rectangle(img,(x,y),(x+w,y+h),(0,255,0),2)\n",
    "                roi_gray=gray[y:y+h,x:x+h]\n",
    "                roi_img=img[y:y+h,x:x+h]\n",
    "                eyes=eye_cascade.detectMultiScale(roi_gray)\n",
    "                for (ex,ey,ew,eh) in eyes:\n",
    "                    no_of_eyes+=1\n",
    "                    want_img=roi_img[ey:ey+eh,ex:ex+ew]\n",
    "                    want_img=cv2.resize(want_img,(24,24))\n",
    "                    want_img=want_img/255\n",
    "                    pred,pred_class=make_prediction(want_img)\n",
    "                    closed_no+=1 if pred_class=='closed' else 0\n",
    "            cv2.imshow('image',img)\n",
    "            k=cv2.waitKey(32) & 0xff\n",
    "            if k==27:\n",
    "                done=True\n",
    "                cv2.destroyAllWindows()\n",
    "                break\n",
    "        print(closed_no)\n",
    "        if closed_no>15:\n",
    "            #os.system(\"espeak 'wake up or you will die'\")\n",
    "            engine.say('wake up or you will die')\n ",
    "            engine.runAndWait()\n",
    "        if done:\n",
    "            cap.release()\n",
    "            break\n",
    "except KeyboardInterrupt:\n",
    "    cv2.destroyAllWindows()\n",
    "    cap.release()"
   ]
  },
  {
   "cell_type": "code",
   "execution_count": null,
   "metadata": {},
   "outputs": [],
   "source": []
  }
 ],
 "metadata": {
  "kernelspec": {
   "display_name": "Python 3",
   "language": "python",
   "name": "python3"
  },
  "language_info": {
   "codemirror_mode": {
    "name": "ipython",
    "version": 3
   },
   "file_extension": ".py",
   "mimetype": "text/x-python",
   "name": "python",
   "nbconvert_exporter": "python",
   "pygments_lexer": "ipython3",
   "version": "3.7.3"
  }
 },
 "nbformat": 4,
 "nbformat_minor": 2
}
